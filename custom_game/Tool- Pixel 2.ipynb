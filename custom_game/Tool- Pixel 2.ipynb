{
 "cells": [
  {
   "cell_type": "code",
   "execution_count": 2,
   "id": "85f7d0a8",
   "metadata": {},
   "outputs": [],
   "source": [
    "#https://clay-atlas.com/us/blog/2021/05/20/pyqt5-en-click-picture-pixel-value-position/"
   ]
  },
  {
   "cell_type": "code",
   "execution_count": 1,
   "id": "80cbc480",
   "metadata": {},
   "outputs": [
    {
     "ename": "SystemExit",
     "evalue": "0",
     "output_type": "error",
     "traceback": [
      "An exception has occurred, use %tb to see the full traceback.\n",
      "\u001b[1;31mSystemExit\u001b[0m\u001b[1;31m:\u001b[0m 0\n"
     ]
    },
    {
     "name": "stderr",
     "output_type": "stream",
     "text": [
      "C:\\Users\\RMAGANAV\\Anaconda3\\envs\\gym\\lib\\site-packages\\IPython\\core\\interactiveshell.py:3465: UserWarning: To exit: use 'exit', 'quit', or Ctrl-D.\n",
      "  warn(\"To exit: use 'exit', 'quit', or Ctrl-D.\", stacklevel=1)\n"
     ]
    }
   ],
   "source": [
    "#!/usr/bin/env python3\n",
    "\n",
    "import numpy as np\n",
    "from PyQt5 import QtWidgets\n",
    "import pyqtgraph as pg\n",
    "\n",
    "#!/usr/bin/env python3\n",
    "\n",
    "import numpy as np\n",
    "from PyQt5 import QtWidgets\n",
    "import pyqtgraph as pg\n",
    "class TestImage(QtWidgets.QMainWindow):\n",
    "\n",
    "    def __init__(self):\n",
    "        super().__init__()\n",
    "\n",
    "        # Basic UI layout\n",
    "        self.statusbar = QtWidgets.QStatusBar(self)\n",
    "        self.setStatusBar(self.statusbar)\n",
    "        self.glw = pg.GraphicsLayoutWidget()\n",
    "        self.setCentralWidget(self.glw)\n",
    "\n",
    "        # Make image plot\n",
    "        self.p1 = self.glw.addPlot()\n",
    "        self.p1.getViewBox().setAspectLocked()\n",
    "        # Draw axes and ticks above image/data\n",
    "        [ self.p1.getAxis(ax).setZValue(10) for ax in self.p1.axes ]\n",
    "        self.data = np.random.rand(120, 100)\n",
    "        self.img = pg.ImageItem(self.data)\n",
    "        self.p1.addItem(self.img)\n",
    "        # Centre axis ticks on pixel\n",
    "        self.img.setPos(-0.5, -0.5)\n",
    "\n",
    "        # Swap commented lines to choose between hover or click events\n",
    "        self.p1.scene().sigMouseMoved.connect(self.mouseMovedEvent)\n",
    "        #self.p1.scene().sigMouseClicked.connect(self.mouseClickedEvent)\n",
    "\n",
    "    def mouseClickedEvent(self, event):\n",
    "        self.mouseMovedEvent(event.pos())\n",
    "\n",
    "    def mouseMovedEvent(self, pos):\n",
    "        # Check if event is inside image, and convert from screen/pixels to image xy indicies\n",
    "        if self.p1.sceneBoundingRect().contains(pos):\n",
    "            mousePoint = self.p1.getViewBox().mapSceneToView(pos)\n",
    "            x_i = round(mousePoint.x())\n",
    "            y_i = round(mousePoint.y())\n",
    "            if x_i > 0 and x_i < self.data.shape[0] and y_i > 0 and y_i < self.data.shape[1]:\n",
    "                self.statusbar.showMessage(\"({}, {}) = {:0.2f}\".format(x_i, y_i, self.data[x_i, y_i]))\n",
    "                return\n",
    "        self.statusbar.clearMessage()\n",
    "\n",
    "def main():\n",
    "    import sys\n",
    "    app = QtWidgets.QApplication(sys.argv)\n",
    "    mainwindow = TestImage()\n",
    "    mainwindow.show()\n",
    "    sys.exit(app.exec_())\n",
    "\n",
    "if __name__ == '__main__':\n",
    "    main()"
   ]
  }
 ],
 "metadata": {
  "kernelspec": {
   "display_name": "Python (Gym)",
   "language": "python",
   "name": "gym"
  },
  "language_info": {
   "codemirror_mode": {
    "name": "ipython",
    "version": 3
   },
   "file_extension": ".py",
   "mimetype": "text/x-python",
   "name": "python",
   "nbconvert_exporter": "python",
   "pygments_lexer": "ipython3",
   "version": "3.7.0"
  }
 },
 "nbformat": 4,
 "nbformat_minor": 5
}
